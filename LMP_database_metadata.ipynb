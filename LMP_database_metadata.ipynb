{
 "cells": [
  {
   "cell_type": "code",
   "execution_count": 1,
   "metadata": {},
   "outputs": [],
   "source": [
    "import pandas as pd\n",
    "import sqlite3\n",
    "from datetime import timedelta\n",
    "from json import dumps, loads\n",
    "from src.helpers import DATABASE_LOCATION\n",
    "\n",
    "# Connect to database \n",
    "conn = sqlite3.connect(DATABASE_LOCATION)"
   ]
  },
  {
   "cell_type": "markdown",
   "metadata": {},
   "source": [
    "# LMP table metadata"
   ]
  },
  {
   "cell_type": "markdown",
   "metadata": {},
   "source": [
    "### Number of observations"
   ]
  },
  {
   "cell_type": "code",
   "execution_count": 2,
   "metadata": {},
   "outputs": [
    {
     "name": "stdout",
     "output_type": "stream",
     "text": [
      "Total number of rows 2,596,888\n"
     ]
    }
   ],
   "source": [
    "count = pd.read_sql_query(\"\"\"select COUNT(*) from lmp;\"\"\",conn).values[0][0]\n",
    "print(f\"Total number of rows {count:,}\")"
   ]
  },
  {
   "cell_type": "markdown",
   "metadata": {},
   "source": [
    "### Range of time stamps in database"
   ]
  },
  {
   "cell_type": "code",
   "execution_count": 3,
   "metadata": {},
   "outputs": [
    {
     "name": "stdout",
     "output_type": "stream",
     "text": [
      " oldest timestamp: 2019-10-01 00:00:00+00:00 \n",
      " newest timestamp: 2019-11-29 23:00:00+00:00\n"
     ]
    }
   ],
   "source": [
    "min_time = pd.read_sql_query(\"\"\"select min(time) from lmp;\"\"\",conn).values[0][0]\n",
    "max_time = pd.read_sql_query(\"\"\"select max(time) from lmp;\"\"\",conn).values[0][0]\n",
    "print(f\" oldest timestamp: {min_time} \\n newest timestamp: {max_time}\")"
   ]
  },
  {
   "cell_type": "markdown",
   "metadata": {},
   "source": [
    "### Number of regions "
   ]
  },
  {
   "cell_type": "code",
   "execution_count": 4,
   "metadata": {},
   "outputs": [
    {
     "data": {
      "text/plain": [
       "1871"
      ]
     },
     "execution_count": 4,
     "metadata": {},
     "output_type": "execute_result"
    }
   ],
   "source": [
    "pd.read_sql_query(\"\"\"select COUNT(distinct node) from lmp;\"\"\",conn).values[0][0]"
   ]
  },
  {
   "cell_type": "markdown",
   "metadata": {},
   "source": [
    "# Prelim model, serve this to API "
   ]
  },
  {
   "cell_type": "code",
   "execution_count": 5,
   "metadata": {},
   "outputs": [
    {
     "name": "stdout",
     "output_type": "stream",
     "text": [
      "Mean price of LMP on Monday: 36.78 $/MW\n"
     ]
    }
   ],
   "source": [
    "df_afpr = pd.read_sql_query(\n",
    "    \"\"\"select * from lmp\n",
    "    WHERE node == \"AFPR_1_TOT_GEN-APND\";\n",
    "    \"\"\",\n",
    "    conn)\n",
    "df_afpr.time = pd.to_datetime(df_afpr.time)\n",
    "mean_lpm = df_afpr[df_afpr['time'].dt.dayofweek==0].mean()[0]\n",
    "day = \"Monday\"\n",
    "print(f'Mean price of LMP on {day}: {mean_lpm:.2f} $/MW')"
   ]
  },
  {
   "cell_type": "markdown",
   "metadata": {},
   "source": [
    "## Convert a DataFrame to JSON "
   ]
  },
  {
   "cell_type": "code",
   "execution_count": 8,
   "metadata": {},
   "outputs": [
    {
     "name": "stdout",
     "output_type": "stream",
     "text": [
      "[\n",
      "    {\n",
      "        \"mw\": 48.20406,\n",
      "        \"node\": \"AFPR_1_TOT_GEN-APND\",\n",
      "        \"time\": \"2019-10-01 02:00:00+00:00\"\n",
      "    },\n",
      "    {\n",
      "        \"mw\": 33.55219,\n",
      "        \"node\": \"AFPR_1_TOT_GEN-APND\",\n",
      "        \"time\": \"2019-10-01 00:00:00+00:00\"\n",
      "    },\n",
      "    {\n",
      "        \"mw\": 43.28855,\n",
      "        \"node\": \"AFPR_1_TOT_GEN-APND\",\n",
      "        \"time\": \"2019-10-01 01:00:00+00:00\"\n",
      "    },\n",
      "    {\n",
      "        \"mw\": 40.71762,\n",
      "        \"node\": \"AFPR_1_TOT_GEN-APND\",\n",
      "        \"time\": \"2019-10-01 03:00:00+00:00\"\n",
      "    },\n",
      "    {\n",
      "        \"mw\": 35.78075,\n",
      "        \"node\": \"AFPR_1_TOT_GEN-APND\",\n",
      "        \"time\": \"2019-10-01 04:00:00+00:00\"\n",
      "    }\n",
      "]\n"
     ]
    }
   ],
   "source": [
    "data = pd.read_sql_query(\n",
    "    \"\"\"select * from lmp\n",
    "    WHERE node == \"AFPR_1_TOT_GEN-APND\"\n",
    "    LIMIT 5;\n",
    "    \"\"\",\n",
    "    conn).to_json(orient='records')\n",
    "\n",
    "print(dumps(loads(data), indent=4, sort_keys=True))"
   ]
  }
 ],
 "metadata": {
  "kernelspec": {
   "display_name": "Python 3",
   "language": "python",
   "name": "python3"
  },
  "language_info": {
   "codemirror_mode": {
    "name": "ipython",
    "version": 3
   },
   "file_extension": ".py",
   "mimetype": "text/x-python",
   "name": "python",
   "nbconvert_exporter": "python",
   "pygments_lexer": "ipython3",
   "version": "3.7.3"
  }
 },
 "nbformat": 4,
 "nbformat_minor": 2
}
