{
 "cells": [
  {
   "cell_type": "code",
   "execution_count": 1,
   "metadata": {},
   "outputs": [],
   "source": [
    "import pandas as pd\n",
    "import sqlite3\n",
    "from datetime import timedelta\n",
    "from json import dumps, loads\n",
    "from src.helpers import DATABASE_LOCATION\n",
    "# Connect to database \n",
    "conn = sqlite3.connect(DATABASE_LOCATION)"
   ]
  },
  {
   "cell_type": "markdown",
   "metadata": {},
   "source": [
    "# LMP table metadata"
   ]
  },
  {
   "cell_type": "markdown",
   "metadata": {},
   "source": [
    "### Number of observations"
   ]
  },
  {
   "cell_type": "code",
   "execution_count": 29,
   "metadata": {},
   "outputs": [
    {
     "name": "stdout",
     "output_type": "stream",
     "text": [
      "Total number of rows 2,596,888\n"
     ]
    }
   ],
   "source": [
    "count = pd.read_sql_query(\"\"\"select COUNT(*) from lmp;\"\"\",conn).values[0][0]\n",
    "print(f\"Total number of rows {count:,}\")"
   ]
  },
  {
   "cell_type": "markdown",
   "metadata": {},
   "source": [
    "### Range of time stamps in database"
   ]
  },
  {
   "cell_type": "code",
   "execution_count": 30,
   "metadata": {},
   "outputs": [
    {
     "name": "stdout",
     "output_type": "stream",
     "text": [
      " oldest timestamp: 2019-10-01 00:00:00+00:00 \n",
      " newest timestamp: 2019-11-29 23:00:00+00:00\n"
     ]
    }
   ],
   "source": [
    "min_time = pd.read_sql_query(\"\"\"select min(time) from lmp;\"\"\",conn).values[0][0]\n",
    "max_time = pd.read_sql_query(\"\"\"select max(time) from lmp;\"\"\",conn).values[0][0]\n",
    "print(f\" oldest timestamp: {min_time} \\n newest timestamp: {max_time}\")"
   ]
  },
  {
   "cell_type": "markdown",
   "metadata": {},
   "source": [
    "### Number of regions "
   ]
  },
  {
   "cell_type": "code",
   "execution_count": 31,
   "metadata": {},
   "outputs": [
    {
     "data": {
      "text/plain": [
       "1871"
      ]
     },
     "execution_count": 31,
     "metadata": {},
     "output_type": "execute_result"
    }
   ],
   "source": [
    "pd.read_sql_query(\"\"\"select COUNT(distinct node) from lmp;\"\"\",conn).values[0][0]"
   ]
  },
  {
   "cell_type": "markdown",
   "metadata": {},
   "source": [
    "# Prelim model, serve this to API "
   ]
  },
  {
   "cell_type": "code",
   "execution_count": 39,
   "metadata": {},
   "outputs": [
    {
     "name": "stdout",
     "output_type": "stream",
     "text": [
      "Mean price of LMP on Monday: 36.78 $/MW\n"
     ]
    }
   ],
   "source": [
    "df_afpr = pd.read_sql_query(\n",
    "    \"\"\"select * from lmp\n",
    "    WHERE node == \"AFPR_1_TOT_GEN-APND\";\n",
    "    \"\"\",\n",
    "    conn)\n",
    "df_afpr.time = pd.to_datetime(df_afpr.time)\n",
    "mean_lpm = df_afpr[df_afpr['time'].dt.dayofweek==0].mean()[0]\n",
    "day = \"Monday\"\n",
    "print(f'Mean price of LMP on {day}: {mean_lpm:.2f} $/MW')"
   ]
  },
  {
   "cell_type": "code",
   "execution_count": null,
   "metadata": {},
   "outputs": [],
   "source": [
    "df_afpr['time'][0].weekday()"
   ]
  },
  {
   "cell_type": "code",
   "execution_count": 2,
   "metadata": {},
   "outputs": [
    {
     "data": {
      "text/html": [
       "<div>\n",
       "<style scoped>\n",
       "    .dataframe tbody tr th:only-of-type {\n",
       "        vertical-align: middle;\n",
       "    }\n",
       "\n",
       "    .dataframe tbody tr th {\n",
       "        vertical-align: top;\n",
       "    }\n",
       "\n",
       "    .dataframe thead th {\n",
       "        text-align: right;\n",
       "    }\n",
       "</style>\n",
       "<table border=\"1\" class=\"dataframe\">\n",
       "  <thead>\n",
       "    <tr style=\"text-align: right;\">\n",
       "      <th></th>\n",
       "      <th>time</th>\n",
       "      <th>node</th>\n",
       "      <th>mw</th>\n",
       "    </tr>\n",
       "  </thead>\n",
       "  <tbody>\n",
       "    <tr>\n",
       "      <th>0</th>\n",
       "      <td>2019-10-01 02:00:00+00:00</td>\n",
       "      <td>AFPR_1_TOT_GEN-APND</td>\n",
       "      <td>48.20406</td>\n",
       "    </tr>\n",
       "    <tr>\n",
       "      <th>1</th>\n",
       "      <td>2019-10-01 00:00:00+00:00</td>\n",
       "      <td>AFPR_1_TOT_GEN-APND</td>\n",
       "      <td>33.55219</td>\n",
       "    </tr>\n",
       "    <tr>\n",
       "      <th>2</th>\n",
       "      <td>2019-10-01 01:00:00+00:00</td>\n",
       "      <td>AFPR_1_TOT_GEN-APND</td>\n",
       "      <td>43.28855</td>\n",
       "    </tr>\n",
       "    <tr>\n",
       "      <th>3</th>\n",
       "      <td>2019-10-01 03:00:00+00:00</td>\n",
       "      <td>AFPR_1_TOT_GEN-APND</td>\n",
       "      <td>40.71762</td>\n",
       "    </tr>\n",
       "    <tr>\n",
       "      <th>4</th>\n",
       "      <td>2019-10-01 04:00:00+00:00</td>\n",
       "      <td>AFPR_1_TOT_GEN-APND</td>\n",
       "      <td>35.78075</td>\n",
       "    </tr>\n",
       "    <tr>\n",
       "      <th>...</th>\n",
       "      <td>...</td>\n",
       "      <td>...</td>\n",
       "      <td>...</td>\n",
       "    </tr>\n",
       "    <tr>\n",
       "      <th>1435</th>\n",
       "      <td>2019-11-29 16:00:00+00:00</td>\n",
       "      <td>AFPR_1_TOT_GEN-APND</td>\n",
       "      <td>35.18822</td>\n",
       "    </tr>\n",
       "    <tr>\n",
       "      <th>1436</th>\n",
       "      <td>2019-11-29 14:00:00+00:00</td>\n",
       "      <td>AFPR_1_TOT_GEN-APND</td>\n",
       "      <td>43.55469</td>\n",
       "    </tr>\n",
       "    <tr>\n",
       "      <th>1437</th>\n",
       "      <td>2019-11-29 13:00:00+00:00</td>\n",
       "      <td>AFPR_1_TOT_GEN-APND</td>\n",
       "      <td>41.19555</td>\n",
       "    </tr>\n",
       "    <tr>\n",
       "      <th>1438</th>\n",
       "      <td>2019-11-29 19:00:00+00:00</td>\n",
       "      <td>AFPR_1_TOT_GEN-APND</td>\n",
       "      <td>28.27466</td>\n",
       "    </tr>\n",
       "    <tr>\n",
       "      <th>1439</th>\n",
       "      <td>2019-11-29 18:00:00+00:00</td>\n",
       "      <td>AFPR_1_TOT_GEN-APND</td>\n",
       "      <td>28.93836</td>\n",
       "    </tr>\n",
       "  </tbody>\n",
       "</table>\n",
       "<p>1440 rows × 3 columns</p>\n",
       "</div>"
      ],
      "text/plain": [
       "                           time                 node        mw\n",
       "0     2019-10-01 02:00:00+00:00  AFPR_1_TOT_GEN-APND  48.20406\n",
       "1     2019-10-01 00:00:00+00:00  AFPR_1_TOT_GEN-APND  33.55219\n",
       "2     2019-10-01 01:00:00+00:00  AFPR_1_TOT_GEN-APND  43.28855\n",
       "3     2019-10-01 03:00:00+00:00  AFPR_1_TOT_GEN-APND  40.71762\n",
       "4     2019-10-01 04:00:00+00:00  AFPR_1_TOT_GEN-APND  35.78075\n",
       "...                         ...                  ...       ...\n",
       "1435  2019-11-29 16:00:00+00:00  AFPR_1_TOT_GEN-APND  35.18822\n",
       "1436  2019-11-29 14:00:00+00:00  AFPR_1_TOT_GEN-APND  43.55469\n",
       "1437  2019-11-29 13:00:00+00:00  AFPR_1_TOT_GEN-APND  41.19555\n",
       "1438  2019-11-29 19:00:00+00:00  AFPR_1_TOT_GEN-APND  28.27466\n",
       "1439  2019-11-29 18:00:00+00:00  AFPR_1_TOT_GEN-APND  28.93836\n",
       "\n",
       "[1440 rows x 3 columns]"
      ]
     },
     "execution_count": 2,
     "metadata": {},
     "output_type": "execute_result"
    }
   ],
   "source": [
    "pd.read_sql_query(\n",
    "    \"\"\"select * from lmp\n",
    "    WHERE node == \"AFPR_1_TOT_GEN-APND\";\n",
    "    \"\"\",\n",
    "    conn)\n"
   ]
  },
  {
   "cell_type": "markdown",
   "metadata": {},
   "source": [
    "## Convert a DataFrame to JSON "
   ]
  },
  {
   "cell_type": "code",
   "execution_count": 64,
   "metadata": {},
   "outputs": [
    {
     "name": "stdout",
     "output_type": "stream",
     "text": [
      "[\n",
      "    {\n",
      "        \"mw\": 48.20406,\n",
      "        \"node\": \"AFPR_1_TOT_GEN-APND\",\n",
      "        \"time\": \"2019-10-01 02:00:00+00:00\"\n",
      "    },\n",
      "    {\n",
      "        \"mw\": 33.55219,\n",
      "        \"node\": \"AFPR_1_TOT_GEN-APND\",\n",
      "        \"time\": \"2019-10-01 00:00:00+00:00\"\n",
      "    },\n",
      "    {\n",
      "        \"mw\": 43.28855,\n",
      "        \"node\": \"AFPR_1_TOT_GEN-APND\",\n",
      "        \"time\": \"2019-10-01 01:00:00+00:00\"\n",
      "    },\n",
      "    {\n",
      "        \"mw\": 40.71762,\n",
      "        \"node\": \"AFPR_1_TOT_GEN-APND\",\n",
      "        \"time\": \"2019-10-01 03:00:00+00:00\"\n",
      "    },\n",
      "    {\n",
      "        \"mw\": 35.78075,\n",
      "        \"node\": \"AFPR_1_TOT_GEN-APND\",\n",
      "        \"time\": \"2019-10-01 04:00:00+00:00\"\n",
      "    }\n",
      "]\n"
     ]
    }
   ],
   "source": [
    "data = pd.read_sql_query(\n",
    "    \"\"\"select * from lmp\n",
    "    WHERE node == \"AFPR_1_TOT_GEN-APND\"\n",
    "    LIMIT 5;\n",
    "    \"\"\",\n",
    "    conn).to_json(orient='records')\n",
    "\n",
    "print(dumps(loads(data), indent=4, sort_keys=True))"
   ]
  },
  {
   "cell_type": "code",
   "execution_count": 2,
   "metadata": {},
   "outputs": [
    {
     "data": {
      "text/plain": [
       "'monday'"
      ]
     },
     "execution_count": 2,
     "metadata": {},
     "output_type": "execute_result"
    }
   ],
   "source": []
  },
  {
   "cell_type": "code",
   "execution_count": null,
   "metadata": {},
   "outputs": [],
   "source": []
  }
 ],
 "metadata": {
  "kernelspec": {
   "display_name": "Python 3",
   "language": "python",
   "name": "python3"
  },
  "language_info": {
   "codemirror_mode": {
    "name": "ipython",
    "version": 3
   },
   "file_extension": ".py",
   "mimetype": "text/x-python",
   "name": "python",
   "nbconvert_exporter": "python",
   "pygments_lexer": "ipython3",
   "version": "3.7.3"
  }
 },
 "nbformat": 4,
 "nbformat_minor": 2
}
