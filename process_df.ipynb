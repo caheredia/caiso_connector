{
 "cells": [
  {
   "cell_type": "code",
   "execution_count": 2,
   "metadata": {},
   "outputs": [],
   "source": [
    "import pandas as pd\n",
    "from src.input.caiso_connector import (\n",
    "    download_csv_file,\n",
    "    unzip_csv,\n",
    "    delete_data_files,\n",
    "    find_csv_files,\n",
    "    ZIP_DIRECTORY,\n",
    "    target_url\n",
    ")"
   ]
  },
  {
   "cell_type": "markdown",
   "metadata": {},
   "source": [
    "# Download file"
   ]
  },
  {
   "cell_type": "code",
   "execution_count": 5,
   "metadata": {},
   "outputs": [],
   "source": [
    "download_csv_file(target_url, ZIP_DIRECTORY)\n",
    "unzip_csv(ZIP_DIRECTORY)"
   ]
  },
  {
   "cell_type": "markdown",
   "metadata": {},
   "source": [
    "# Load dataframe "
   ]
  },
  {
   "cell_type": "code",
   "execution_count": 18,
   "metadata": {},
   "outputs": [],
   "source": [
    "for file in find_csv_files(ZIP_DIRECTORY):\n",
    "    df = (pd.read_csv(file)\n",
    "          .drop(columns=['OPR_DT', 'NODE_ID_XML']))"
   ]
  },
  {
   "cell_type": "code",
   "execution_count": 17,
   "metadata": {},
   "outputs": [
    {
     "data": {
      "text/html": [
       "<div>\n",
       "<style scoped>\n",
       "    .dataframe tbody tr th:only-of-type {\n",
       "        vertical-align: middle;\n",
       "    }\n",
       "\n",
       "    .dataframe tbody tr th {\n",
       "        vertical-align: top;\n",
       "    }\n",
       "\n",
       "    .dataframe thead th {\n",
       "        text-align: right;\n",
       "    }\n",
       "</style>\n",
       "<table border=\"1\" class=\"dataframe\">\n",
       "  <thead>\n",
       "    <tr style=\"text-align: right;\">\n",
       "      <th></th>\n",
       "      <th>INTERVALSTARTTIME_GMT</th>\n",
       "      <th>INTERVALENDTIME_GMT</th>\n",
       "      <th>OPR_HR</th>\n",
       "      <th>NODE_ID</th>\n",
       "      <th>NODE</th>\n",
       "      <th>MARKET_RUN_ID</th>\n",
       "      <th>LMP_TYPE</th>\n",
       "      <th>XML_DATA_ITEM</th>\n",
       "      <th>PNODE_RESMRID</th>\n",
       "      <th>GRP_TYPE</th>\n",
       "      <th>POS</th>\n",
       "      <th>MW</th>\n",
       "      <th>OPR_INTERVAL</th>\n",
       "      <th>GROUP</th>\n",
       "    </tr>\n",
       "  </thead>\n",
       "  <tbody>\n",
       "    <tr>\n",
       "      <th>0</th>\n",
       "      <td>2019-02-01T00:00:00-00:00</td>\n",
       "      <td>2019-02-01T00:05:00-00:00</td>\n",
       "      <td>17</td>\n",
       "      <td>AFPR_1_TOT_GEN-APND</td>\n",
       "      <td>AFPR_1_TOT_GEN-APND</td>\n",
       "      <td>RTM</td>\n",
       "      <td>MCC</td>\n",
       "      <td>LMP_CONG_PRC</td>\n",
       "      <td>AFPR_1_TOT_GEN-APND</td>\n",
       "      <td>ALL_APNODES</td>\n",
       "      <td>0</td>\n",
       "      <td>-0.71137</td>\n",
       "      <td>1</td>\n",
       "      <td>1</td>\n",
       "    </tr>\n",
       "    <tr>\n",
       "      <th>1</th>\n",
       "      <td>2019-02-01T00:05:00-00:00</td>\n",
       "      <td>2019-02-01T00:10:00-00:00</td>\n",
       "      <td>17</td>\n",
       "      <td>AFPR_1_TOT_GEN-APND</td>\n",
       "      <td>AFPR_1_TOT_GEN-APND</td>\n",
       "      <td>RTM</td>\n",
       "      <td>MCC</td>\n",
       "      <td>LMP_CONG_PRC</td>\n",
       "      <td>AFPR_1_TOT_GEN-APND</td>\n",
       "      <td>ALL_APNODES</td>\n",
       "      <td>0</td>\n",
       "      <td>-1.11032</td>\n",
       "      <td>2</td>\n",
       "      <td>1</td>\n",
       "    </tr>\n",
       "    <tr>\n",
       "      <th>2</th>\n",
       "      <td>2019-02-01T00:10:00-00:00</td>\n",
       "      <td>2019-02-01T00:15:00-00:00</td>\n",
       "      <td>17</td>\n",
       "      <td>AFPR_1_TOT_GEN-APND</td>\n",
       "      <td>AFPR_1_TOT_GEN-APND</td>\n",
       "      <td>RTM</td>\n",
       "      <td>MCC</td>\n",
       "      <td>LMP_CONG_PRC</td>\n",
       "      <td>AFPR_1_TOT_GEN-APND</td>\n",
       "      <td>ALL_APNODES</td>\n",
       "      <td>0</td>\n",
       "      <td>-4.52263</td>\n",
       "      <td>3</td>\n",
       "      <td>1</td>\n",
       "    </tr>\n",
       "    <tr>\n",
       "      <th>3</th>\n",
       "      <td>2019-02-01T00:15:00-00:00</td>\n",
       "      <td>2019-02-01T00:20:00-00:00</td>\n",
       "      <td>17</td>\n",
       "      <td>AFPR_1_TOT_GEN-APND</td>\n",
       "      <td>AFPR_1_TOT_GEN-APND</td>\n",
       "      <td>RTM</td>\n",
       "      <td>MCC</td>\n",
       "      <td>LMP_CONG_PRC</td>\n",
       "      <td>AFPR_1_TOT_GEN-APND</td>\n",
       "      <td>ALL_APNODES</td>\n",
       "      <td>0</td>\n",
       "      <td>-1.54268</td>\n",
       "      <td>4</td>\n",
       "      <td>1</td>\n",
       "    </tr>\n",
       "    <tr>\n",
       "      <th>4</th>\n",
       "      <td>2019-02-01T00:20:00-00:00</td>\n",
       "      <td>2019-02-01T00:25:00-00:00</td>\n",
       "      <td>17</td>\n",
       "      <td>AFPR_1_TOT_GEN-APND</td>\n",
       "      <td>AFPR_1_TOT_GEN-APND</td>\n",
       "      <td>RTM</td>\n",
       "      <td>MCC</td>\n",
       "      <td>LMP_CONG_PRC</td>\n",
       "      <td>AFPR_1_TOT_GEN-APND</td>\n",
       "      <td>ALL_APNODES</td>\n",
       "      <td>0</td>\n",
       "      <td>-2.21861</td>\n",
       "      <td>5</td>\n",
       "      <td>1</td>\n",
       "    </tr>\n",
       "  </tbody>\n",
       "</table>\n",
       "</div>"
      ],
      "text/plain": [
       "       INTERVALSTARTTIME_GMT        INTERVALENDTIME_GMT  OPR_HR  \\\n",
       "0  2019-02-01T00:00:00-00:00  2019-02-01T00:05:00-00:00      17   \n",
       "1  2019-02-01T00:05:00-00:00  2019-02-01T00:10:00-00:00      17   \n",
       "2  2019-02-01T00:10:00-00:00  2019-02-01T00:15:00-00:00      17   \n",
       "3  2019-02-01T00:15:00-00:00  2019-02-01T00:20:00-00:00      17   \n",
       "4  2019-02-01T00:20:00-00:00  2019-02-01T00:25:00-00:00      17   \n",
       "\n",
       "               NODE_ID                 NODE MARKET_RUN_ID LMP_TYPE  \\\n",
       "0  AFPR_1_TOT_GEN-APND  AFPR_1_TOT_GEN-APND           RTM      MCC   \n",
       "1  AFPR_1_TOT_GEN-APND  AFPR_1_TOT_GEN-APND           RTM      MCC   \n",
       "2  AFPR_1_TOT_GEN-APND  AFPR_1_TOT_GEN-APND           RTM      MCC   \n",
       "3  AFPR_1_TOT_GEN-APND  AFPR_1_TOT_GEN-APND           RTM      MCC   \n",
       "4  AFPR_1_TOT_GEN-APND  AFPR_1_TOT_GEN-APND           RTM      MCC   \n",
       "\n",
       "  XML_DATA_ITEM        PNODE_RESMRID     GRP_TYPE  POS       MW  OPR_INTERVAL  \\\n",
       "0  LMP_CONG_PRC  AFPR_1_TOT_GEN-APND  ALL_APNODES    0 -0.71137             1   \n",
       "1  LMP_CONG_PRC  AFPR_1_TOT_GEN-APND  ALL_APNODES    0 -1.11032             2   \n",
       "2  LMP_CONG_PRC  AFPR_1_TOT_GEN-APND  ALL_APNODES    0 -4.52263             3   \n",
       "3  LMP_CONG_PRC  AFPR_1_TOT_GEN-APND  ALL_APNODES    0 -1.54268             4   \n",
       "4  LMP_CONG_PRC  AFPR_1_TOT_GEN-APND  ALL_APNODES    0 -2.21861             5   \n",
       "\n",
       "   GROUP  \n",
       "0      1  \n",
       "1      1  \n",
       "2      1  \n",
       "3      1  \n",
       "4      1  "
      ]
     },
     "execution_count": 17,
     "metadata": {},
     "output_type": "execute_result"
    }
   ],
   "source": [
    "df.head()"
   ]
  },
  {
   "cell_type": "code",
   "execution_count": null,
   "metadata": {},
   "outputs": [],
   "source": []
  },
  {
   "cell_type": "code",
   "execution_count": 11,
   "metadata": {},
   "outputs": [
    {
     "data": {
      "text/plain": [
       "array(['MCC', 'MCE', 'MCL', 'LMP'], dtype=object)"
      ]
     },
     "execution_count": 11,
     "metadata": {},
     "output_type": "execute_result"
    }
   ],
   "source": [
    "df['LMP_TYPE'].unique()"
   ]
  },
  {
   "cell_type": "code",
   "execution_count": 12,
   "metadata": {},
   "outputs": [
    {
     "data": {
      "text/plain": [
       "array(['RTM'], dtype=object)"
      ]
     },
     "execution_count": 12,
     "metadata": {},
     "output_type": "execute_result"
    }
   ],
   "source": [
    "df['MARKET_RUN_ID'].unique()"
   ]
  },
  {
   "cell_type": "code",
   "execution_count": 13,
   "metadata": {},
   "outputs": [
    {
     "data": {
      "text/plain": [
       "array([17])"
      ]
     },
     "execution_count": 13,
     "metadata": {},
     "output_type": "execute_result"
    }
   ],
   "source": [
    "df['OPR_HR'].unique()"
   ]
  },
  {
   "cell_type": "code",
   "execution_count": 19,
   "metadata": {},
   "outputs": [
    {
     "data": {
      "text/html": [
       "<div>\n",
       "<style scoped>\n",
       "    .dataframe tbody tr th:only-of-type {\n",
       "        vertical-align: middle;\n",
       "    }\n",
       "\n",
       "    .dataframe tbody tr th {\n",
       "        vertical-align: top;\n",
       "    }\n",
       "\n",
       "    .dataframe thead th {\n",
       "        text-align: right;\n",
       "    }\n",
       "</style>\n",
       "<table border=\"1\" class=\"dataframe\">\n",
       "  <thead>\n",
       "    <tr style=\"text-align: right;\">\n",
       "      <th></th>\n",
       "      <th>INTERVALSTARTTIME_GMT</th>\n",
       "      <th>NODE</th>\n",
       "      <th>LMP_TYPE</th>\n",
       "      <th>MW</th>\n",
       "    </tr>\n",
       "  </thead>\n",
       "  <tbody>\n",
       "    <tr>\n",
       "      <th>0</th>\n",
       "      <td>2019-02-01T00:00:00-00:00</td>\n",
       "      <td>AFPR_1_TOT_GEN-APND</td>\n",
       "      <td>MCC</td>\n",
       "      <td>-0.71137</td>\n",
       "    </tr>\n",
       "    <tr>\n",
       "      <th>1</th>\n",
       "      <td>2019-02-01T00:05:00-00:00</td>\n",
       "      <td>AFPR_1_TOT_GEN-APND</td>\n",
       "      <td>MCC</td>\n",
       "      <td>-1.11032</td>\n",
       "    </tr>\n",
       "    <tr>\n",
       "      <th>2</th>\n",
       "      <td>2019-02-01T00:10:00-00:00</td>\n",
       "      <td>AFPR_1_TOT_GEN-APND</td>\n",
       "      <td>MCC</td>\n",
       "      <td>-4.52263</td>\n",
       "    </tr>\n",
       "    <tr>\n",
       "      <th>3</th>\n",
       "      <td>2019-02-01T00:15:00-00:00</td>\n",
       "      <td>AFPR_1_TOT_GEN-APND</td>\n",
       "      <td>MCC</td>\n",
       "      <td>-1.54268</td>\n",
       "    </tr>\n",
       "    <tr>\n",
       "      <th>4</th>\n",
       "      <td>2019-02-01T00:20:00-00:00</td>\n",
       "      <td>AFPR_1_TOT_GEN-APND</td>\n",
       "      <td>MCC</td>\n",
       "      <td>-2.21861</td>\n",
       "    </tr>\n",
       "  </tbody>\n",
       "</table>\n",
       "</div>"
      ],
      "text/plain": [
       "       INTERVALSTARTTIME_GMT                 NODE LMP_TYPE       MW\n",
       "0  2019-02-01T00:00:00-00:00  AFPR_1_TOT_GEN-APND      MCC -0.71137\n",
       "1  2019-02-01T00:05:00-00:00  AFPR_1_TOT_GEN-APND      MCC -1.11032\n",
       "2  2019-02-01T00:10:00-00:00  AFPR_1_TOT_GEN-APND      MCC -4.52263\n",
       "3  2019-02-01T00:15:00-00:00  AFPR_1_TOT_GEN-APND      MCC -1.54268\n",
       "4  2019-02-01T00:20:00-00:00  AFPR_1_TOT_GEN-APND      MCC -2.21861"
      ]
     },
     "execution_count": 19,
     "metadata": {},
     "output_type": "execute_result"
    }
   ],
   "source": [
    "lmp_columns = ['INTERVALSTARTTIME_GMT', 'NODE','LMP_TYPE','MW']\n",
    "for file in find_csv_files(ZIP_DIRECTORY):\n",
    "    df = pd.read_csv(file, usecols=lmp_columns)\n",
    "df.head()"
   ]
  },
  {
   "cell_type": "code",
   "execution_count": null,
   "metadata": {},
   "outputs": [],
   "source": []
  }
 ],
 "metadata": {
  "kernelspec": {
   "display_name": "Python 3",
   "language": "python",
   "name": "python3"
  },
  "language_info": {
   "codemirror_mode": {
    "name": "ipython",
    "version": 3
   },
   "file_extension": ".py",
   "mimetype": "text/x-python",
   "name": "python",
   "nbconvert_exporter": "python",
   "pygments_lexer": "ipython3",
   "version": "3.7.3"
  }
 },
 "nbformat": 4,
 "nbformat_minor": 2
}
