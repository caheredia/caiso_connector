{
 "cells": [
  {
   "cell_type": "code",
   "execution_count": 166,
   "metadata": {},
   "outputs": [],
   "source": [
    "import pandas as pd\n",
    "import sqlite3\n",
    "from datetime import timedelta\n",
    "\n",
    "from src.input.caiso_connector import (\n",
    "    download_csv_file,\n",
    "    unzip_csv,\n",
    "    delete_data_files,\n",
    "    find_csv_files,\n",
    "    ZIP_DIRECTORY,\n",
    "    target_url\n",
    ")\n",
    "\n",
    "# Connect to database \n",
    "conn = sqlite3.connect(\"src/output/lmp.db\")"
   ]
  },
  {
   "cell_type": "code",
   "execution_count": 119,
   "metadata": {},
   "outputs": [],
   "source": []
  },
  {
   "cell_type": "markdown",
   "metadata": {},
   "source": [
    "# Extract, Transform, and Load (ETL)"
   ]
  },
  {
   "cell_type": "code",
   "execution_count": 181,
   "metadata": {},
   "outputs": [
    {
     "name": "stdout",
     "output_type": "stream",
     "text": [
      "http://oasis.caiso.com/oasisapi/SingleZip?queryname=PRC_LMP&startdatetime=20191101T00:00-0000&enddatetime=20191102T00:00-0000&version=1&market_run_id=DAM&grp_type=ALL_APNODES&resultformat=6\n",
      "http://oasis.caiso.com/oasisapi/SingleZip?queryname=PRC_LMP&startdatetime=20191102T00:00-0000&enddatetime=20191103T00:00-0000&version=1&market_run_id=DAM&grp_type=ALL_APNODES&resultformat=6\n"
     ]
    }
   ],
   "source": [
    "# Extract \n",
    "for date in pd.date_range(\"2019-11-01\",\"2019-11-02\" ):\n",
    "    start_time = date.isoformat()[:-3].replace('-','')\n",
    "    end_time = (date + timedelta(days=1)).isoformat()[:-3].replace('-','')\n",
    "    target = f\"http://oasis.caiso.com/oasisapi/SingleZip?queryname=PRC_LMP&startdatetime={start_time}-0000&enddatetime={end_time}-0000&version=1&market_run_id=DAM&grp_type=ALL_APNODES&resultformat=6\"\n",
    "    download_csv_file(target, ZIP_DIRECTORY)\n",
    "    unzip_csv(ZIP_DIRECTORY)\n",
    "    \n",
    "# Tranform \n",
    "    lmp_columns = ['INTERVALSTARTTIME_GMT', 'NODE','LMP_TYPE','MW']\n",
    "    file = find_csv_files(ZIP_DIRECTORY)[0]\n",
    "    df = (pd.read_csv(file, usecols=lmp_columns)\n",
    "          .rename(columns = {'INTERVALSTARTTIME_GMT':'time','NODE':'node','MW':'mw'}))\n",
    "    df.time = pd.to_datetime(df.time)\n",
    "    df = df[df[\"LMP_TYPE\"]==\"LMP\"].drop(columns=['LMP_TYPE'])\n",
    "    \n",
    "# Load \n",
    "    df.to_sql(\"lmp\", conn, if_exists=\"append\", index=False)\n",
    "\n",
    "    delete_data_files(ZIP_DIRECTORY)"
   ]
  },
  {
   "cell_type": "code",
   "execution_count": 133,
   "metadata": {},
   "outputs": [
    {
     "data": {
      "text/html": [
       "<div>\n",
       "<style scoped>\n",
       "    .dataframe tbody tr th:only-of-type {\n",
       "        vertical-align: middle;\n",
       "    }\n",
       "\n",
       "    .dataframe tbody tr th {\n",
       "        vertical-align: top;\n",
       "    }\n",
       "\n",
       "    .dataframe thead th {\n",
       "        text-align: right;\n",
       "    }\n",
       "</style>\n",
       "<table border=\"1\" class=\"dataframe\">\n",
       "  <thead>\n",
       "    <tr style=\"text-align: right;\">\n",
       "      <th></th>\n",
       "      <th>time</th>\n",
       "      <th>node</th>\n",
       "      <th>mw</th>\n",
       "    </tr>\n",
       "  </thead>\n",
       "  <tbody>\n",
       "    <tr>\n",
       "      <th>0</th>\n",
       "      <td>2019-02-01 01:00:00+00:00</td>\n",
       "      <td>AFPR_1_TOT_GEN-APND</td>\n",
       "      <td>59.28223</td>\n",
       "    </tr>\n",
       "    <tr>\n",
       "      <th>1</th>\n",
       "      <td>2019-02-01 00:00:00+00:00</td>\n",
       "      <td>AFPR_1_TOT_GEN-APND</td>\n",
       "      <td>43.21976</td>\n",
       "    </tr>\n",
       "    <tr>\n",
       "      <th>2</th>\n",
       "      <td>2019-02-01 02:00:00+00:00</td>\n",
       "      <td>AFPR_1_TOT_GEN-APND</td>\n",
       "      <td>60.94596</td>\n",
       "    </tr>\n",
       "    <tr>\n",
       "      <th>3</th>\n",
       "      <td>2019-02-01 06:00:00+00:00</td>\n",
       "      <td>AFPR_1_TOT_GEN-APND</td>\n",
       "      <td>41.12965</td>\n",
       "    </tr>\n",
       "    <tr>\n",
       "      <th>4</th>\n",
       "      <td>2019-02-01 07:00:00+00:00</td>\n",
       "      <td>AFPR_1_TOT_GEN-APND</td>\n",
       "      <td>38.83438</td>\n",
       "    </tr>\n",
       "    <tr>\n",
       "      <th>...</th>\n",
       "      <td>...</td>\n",
       "      <td>...</td>\n",
       "      <td>...</td>\n",
       "    </tr>\n",
       "    <tr>\n",
       "      <th>686731</th>\n",
       "      <td>2019-03-04 23:00:00+00:00</td>\n",
       "      <td>YALE_7_UNITS-APND</td>\n",
       "      <td>52.44863</td>\n",
       "    </tr>\n",
       "    <tr>\n",
       "      <th>686732</th>\n",
       "      <td>2019-03-04 13:00:00+00:00</td>\n",
       "      <td>YALE_7_UNITS-APND</td>\n",
       "      <td>94.58699</td>\n",
       "    </tr>\n",
       "    <tr>\n",
       "      <th>686733</th>\n",
       "      <td>2019-03-04 14:00:00+00:00</td>\n",
       "      <td>YALE_7_UNITS-APND</td>\n",
       "      <td>103.47569</td>\n",
       "    </tr>\n",
       "    <tr>\n",
       "      <th>686734</th>\n",
       "      <td>2019-03-04 11:00:00+00:00</td>\n",
       "      <td>YALE_7_UNITS-APND</td>\n",
       "      <td>53.79332</td>\n",
       "    </tr>\n",
       "    <tr>\n",
       "      <th>686735</th>\n",
       "      <td>2019-03-04 22:00:00+00:00</td>\n",
       "      <td>YALE_7_UNITS-APND</td>\n",
       "      <td>49.56529</td>\n",
       "    </tr>\n",
       "  </tbody>\n",
       "</table>\n",
       "<p>686736 rows × 3 columns</p>\n",
       "</div>"
      ],
      "text/plain": [
       "                             time                 node         mw\n",
       "0       2019-02-01 01:00:00+00:00  AFPR_1_TOT_GEN-APND   59.28223\n",
       "1       2019-02-01 00:00:00+00:00  AFPR_1_TOT_GEN-APND   43.21976\n",
       "2       2019-02-01 02:00:00+00:00  AFPR_1_TOT_GEN-APND   60.94596\n",
       "3       2019-02-01 06:00:00+00:00  AFPR_1_TOT_GEN-APND   41.12965\n",
       "4       2019-02-01 07:00:00+00:00  AFPR_1_TOT_GEN-APND   38.83438\n",
       "...                           ...                  ...        ...\n",
       "686731  2019-03-04 23:00:00+00:00    YALE_7_UNITS-APND   52.44863\n",
       "686732  2019-03-04 13:00:00+00:00    YALE_7_UNITS-APND   94.58699\n",
       "686733  2019-03-04 14:00:00+00:00    YALE_7_UNITS-APND  103.47569\n",
       "686734  2019-03-04 11:00:00+00:00    YALE_7_UNITS-APND   53.79332\n",
       "686735  2019-03-04 22:00:00+00:00    YALE_7_UNITS-APND   49.56529\n",
       "\n",
       "[686736 rows x 3 columns]"
      ]
     },
     "execution_count": 133,
     "metadata": {},
     "output_type": "execute_result"
    }
   ],
   "source": [
    "pd.read_sql_query(\"select * from lmp;\", conn)"
   ]
  },
  {
   "cell_type": "markdown",
   "metadata": {},
   "source": [
    "# LMP table metadata"
   ]
  },
  {
   "cell_type": "markdown",
   "metadata": {},
   "source": [
    "### Number of observations"
   ]
  },
  {
   "cell_type": "code",
   "execution_count": 182,
   "metadata": {},
   "outputs": [
    {
     "name": "stdout",
     "output_type": "stream",
     "text": [
      "Total number of rows 775,331\n"
     ]
    }
   ],
   "source": [
    "count = pd.read_sql_query(\"\"\"select COUNT(*) from lmp;\"\"\",conn).values[0][0]\n",
    "print(f\"Total number of rows {count:,}\")"
   ]
  },
  {
   "cell_type": "markdown",
   "metadata": {},
   "source": [
    "### Range of time stamps in database"
   ]
  },
  {
   "cell_type": "code",
   "execution_count": 183,
   "metadata": {},
   "outputs": [
    {
     "name": "stdout",
     "output_type": "stream",
     "text": [
      " oldest timestamp: 2019-02-01 00:00:00+00:00 \n",
      " newest timestamp: 2019-11-02 23:00:00+00:00\n"
     ]
    }
   ],
   "source": [
    "min_time = pd.read_sql_query(\"\"\"select min(time) from lmp;\"\"\",conn).values[0][0]\n",
    "max_time = pd.read_sql_query(\"\"\"select max(time) from lmp;\"\"\",conn).values[0][0]\n",
    "print(f\" oldest timestamp: {min_time} \\n newest timestamp: {max_time}\")"
   ]
  },
  {
   "cell_type": "markdown",
   "metadata": {},
   "source": [
    "# Prelim model, serve this to API "
   ]
  },
  {
   "cell_type": "code",
   "execution_count": 186,
   "metadata": {},
   "outputs": [
    {
     "data": {
      "text/plain": [
       "4"
      ]
     },
     "execution_count": 186,
     "metadata": {},
     "output_type": "execute_result"
    }
   ],
   "source": [
    "df_afpr['time'][0].weekday()"
   ]
  },
  {
   "cell_type": "code",
   "execution_count": 187,
   "metadata": {},
   "outputs": [
    {
     "name": "stdout",
     "output_type": "stream",
     "text": [
      "Mean price of LMP on Monday: 41.77 $/MW\n"
     ]
    }
   ],
   "source": [
    "df_afpr = pd.read_sql_query(\n",
    "    \"\"\"select * from lmp\n",
    "    WHERE node == \"AFPR_1_TOT_GEN-APND\";\n",
    "    \"\"\",\n",
    "    conn)\n",
    "df_afpr.time = pd.to_datetime(df_afpr.time)\n",
    "mean_lpm = df_afpr[df_afpr['time'].dt.dayofweek==5].mean()[0]\n",
    "day = \"Monday\"\n",
    "print(f'Mean price of LMP on {day}: {mean_lpm:.2f} $/MW')"
   ]
  }
 ],
 "metadata": {
  "kernelspec": {
   "display_name": "Python 3",
   "language": "python",
   "name": "python3"
  },
  "language_info": {
   "codemirror_mode": {
    "name": "ipython",
    "version": 3
   },
   "file_extension": ".py",
   "mimetype": "text/x-python",
   "name": "python",
   "nbconvert_exporter": "python",
   "pygments_lexer": "ipython3",
   "version": "3.7.3"
  }
 },
 "nbformat": 4,
 "nbformat_minor": 2
}
