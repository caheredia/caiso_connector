{
 "cells": [
  {
   "cell_type": "code",
   "execution_count": 24,
   "metadata": {},
   "outputs": [],
   "source": [
    "import pandas as pd\n",
    "import sqlite3\n",
    "\n",
    "from src.input.caiso_connector import (\n",
    "    download_csv_file,\n",
    "    unzip_csv,\n",
    "    delete_data_files,\n",
    "    find_csv_files,\n",
    "    ZIP_DIRECTORY,\n",
    "    target_url\n",
    ")\n",
    "\n",
    "# Connect to database \n",
    "conn = sqlite3.connect(\"src/output/lmp.db\")"
   ]
  },
  {
   "cell_type": "markdown",
   "metadata": {},
   "source": [
    "# Download file"
   ]
  },
  {
   "cell_type": "code",
   "execution_count": 25,
   "metadata": {},
   "outputs": [
    {
     "data": {
      "text/plain": [
       "'http://oasis.caiso.com/oasisapi/SingleZip?queryname=PRC_LMP&startdatetime=20190201T00:00-0000&enddatetime=20190206T00:00-0000&version=1&market_run_id=DAM&grp_type=ALL_APNODES&resultformat=6'"
      ]
     },
     "execution_count": 25,
     "metadata": {},
     "output_type": "execute_result"
    }
   ],
   "source": [
    "target_url"
   ]
  },
  {
   "cell_type": "code",
   "execution_count": 27,
   "metadata": {},
   "outputs": [],
   "source": [
    "# example target urls \n",
    "target_1 = 'http://oasis.caiso.com/oasisapi/SingleZip?queryname=PRC_LMP&startdatetime=20190207T00:00-0000&enddatetime=20190208T00:00-0000&version=1&market_run_id=DAM&grp_type=ALL_APNODES&resultformat=6'\n",
    "target_2 = 'http://oasis.caiso.com/oasisapi/SingleZip?queryname=PRC_LMP&startdatetime=20190208T00:00-0000&enddatetime=20190209T00:00-0000&version=1&market_run_id=DAM&grp_type=ALL_APNODES&resultformat=6'\n",
    "targets = [target_1, target_2]"
   ]
  },
  {
   "cell_type": "code",
   "execution_count": 28,
   "metadata": {},
   "outputs": [],
   "source": [
    "for target in targets:\n",
    "    download_csv_file(target, ZIP_DIRECTORY)\n",
    "    unzip_csv(ZIP_DIRECTORY)"
   ]
  },
  {
   "cell_type": "markdown",
   "metadata": {},
   "source": [
    "# Load dataframe "
   ]
  },
  {
   "cell_type": "code",
   "execution_count": 31,
   "metadata": {},
   "outputs": [],
   "source": [
    "lmp_columns = ['INTERVALSTARTTIME_GMT', 'NODE','LMP_TYPE','MW']\n",
    "for file in find_csv_files(ZIP_DIRECTORY):\n",
    "    df = (pd.read_csv(file, usecols=lmp_columns)\n",
    "          .rename(columns = {'INTERVALSTARTTIME_GMT':'time','NODE':'node','MW':'mw'}))\n",
    "    df.time = pd.to_datetime(df.time)\n",
    "    df = df[df[\"LMP_TYPE\"]==\"LMP\"].drop(columns=['LMP_TYPE'])\n",
    "    df.to_sql(\"lmp\", conn, if_exists=\"append\", index=False)\n",
    "    \n",
    "delete_data_files(ZIP_DIRECTORY)"
   ]
  },
  {
   "cell_type": "code",
   "execution_count": null,
   "metadata": {},
   "outputs": [],
   "source": [
    "print(len(df['NODE'].unique()))"
   ]
  },
  {
   "cell_type": "code",
   "execution_count": null,
   "metadata": {},
   "outputs": [],
   "source": [
    "for item in df['NODE'].unique():\n",
    "    print(item)"
   ]
  },
  {
   "cell_type": "code",
   "execution_count": null,
   "metadata": {},
   "outputs": [],
   "source": [
    "df[df['NODE']==\"AFPR_1_TOT_GEN-APND\"][['MW']]"
   ]
  },
  {
   "cell_type": "code",
   "execution_count": 15,
   "metadata": {},
   "outputs": [],
   "source": [
    "\n"
   ]
  },
  {
   "cell_type": "code",
   "execution_count": 16,
   "metadata": {},
   "outputs": [],
   "source": [
    "df.to_sql(\"lmp\", conn, if_exists=\"append\", index=False)"
   ]
  },
  {
   "cell_type": "code",
   "execution_count": 18,
   "metadata": {},
   "outputs": [
    {
     "data": {
      "text/html": [
       "<div>\n",
       "<style scoped>\n",
       "    .dataframe tbody tr th:only-of-type {\n",
       "        vertical-align: middle;\n",
       "    }\n",
       "\n",
       "    .dataframe tbody tr th {\n",
       "        vertical-align: top;\n",
       "    }\n",
       "\n",
       "    .dataframe thead th {\n",
       "        text-align: right;\n",
       "    }\n",
       "</style>\n",
       "<table border=\"1\" class=\"dataframe\">\n",
       "  <thead>\n",
       "    <tr style=\"text-align: right;\">\n",
       "      <th></th>\n",
       "      <th>time</th>\n",
       "      <th>node</th>\n",
       "      <th>mw</th>\n",
       "    </tr>\n",
       "  </thead>\n",
       "  <tbody>\n",
       "    <tr>\n",
       "      <th>0</th>\n",
       "      <td>2019-02-01 01:00:00+00:00</td>\n",
       "      <td>AFPR_1_TOT_GEN-APND</td>\n",
       "      <td>59.28223</td>\n",
       "    </tr>\n",
       "    <tr>\n",
       "      <th>1</th>\n",
       "      <td>2019-02-01 00:00:00+00:00</td>\n",
       "      <td>AFPR_1_TOT_GEN-APND</td>\n",
       "      <td>43.21976</td>\n",
       "    </tr>\n",
       "    <tr>\n",
       "      <th>2</th>\n",
       "      <td>2019-02-01 02:00:00+00:00</td>\n",
       "      <td>AFPR_1_TOT_GEN-APND</td>\n",
       "      <td>60.94596</td>\n",
       "    </tr>\n",
       "    <tr>\n",
       "      <th>3</th>\n",
       "      <td>2019-02-01 06:00:00+00:00</td>\n",
       "      <td>AFPR_1_TOT_GEN-APND</td>\n",
       "      <td>41.12965</td>\n",
       "    </tr>\n",
       "    <tr>\n",
       "      <th>4</th>\n",
       "      <td>2019-02-01 07:00:00+00:00</td>\n",
       "      <td>AFPR_1_TOT_GEN-APND</td>\n",
       "      <td>38.83438</td>\n",
       "    </tr>\n",
       "    <tr>\n",
       "      <th>...</th>\n",
       "      <td>...</td>\n",
       "      <td>...</td>\n",
       "      <td>...</td>\n",
       "    </tr>\n",
       "    <tr>\n",
       "      <th>190419</th>\n",
       "      <td>2019-02-05 17:00:00+00:00</td>\n",
       "      <td>YALE_7_UNITS-APND</td>\n",
       "      <td>50.69935</td>\n",
       "    </tr>\n",
       "    <tr>\n",
       "      <th>190420</th>\n",
       "      <td>2019-02-05 12:00:00+00:00</td>\n",
       "      <td>YALE_7_UNITS-APND</td>\n",
       "      <td>50.14012</td>\n",
       "    </tr>\n",
       "    <tr>\n",
       "      <th>190421</th>\n",
       "      <td>2019-02-05 19:00:00+00:00</td>\n",
       "      <td>YALE_7_UNITS-APND</td>\n",
       "      <td>42.37442</td>\n",
       "    </tr>\n",
       "    <tr>\n",
       "      <th>190422</th>\n",
       "      <td>2019-02-05 08:00:00+00:00</td>\n",
       "      <td>YALE_7_UNITS-APND</td>\n",
       "      <td>52.92776</td>\n",
       "    </tr>\n",
       "    <tr>\n",
       "      <th>190423</th>\n",
       "      <td>2019-02-05 16:00:00+00:00</td>\n",
       "      <td>YALE_7_UNITS-APND</td>\n",
       "      <td>60.62821</td>\n",
       "    </tr>\n",
       "  </tbody>\n",
       "</table>\n",
       "<p>190424 rows × 3 columns</p>\n",
       "</div>"
      ],
      "text/plain": [
       "                             time                 node        mw\n",
       "0       2019-02-01 01:00:00+00:00  AFPR_1_TOT_GEN-APND  59.28223\n",
       "1       2019-02-01 00:00:00+00:00  AFPR_1_TOT_GEN-APND  43.21976\n",
       "2       2019-02-01 02:00:00+00:00  AFPR_1_TOT_GEN-APND  60.94596\n",
       "3       2019-02-01 06:00:00+00:00  AFPR_1_TOT_GEN-APND  41.12965\n",
       "4       2019-02-01 07:00:00+00:00  AFPR_1_TOT_GEN-APND  38.83438\n",
       "...                           ...                  ...       ...\n",
       "190419  2019-02-05 17:00:00+00:00    YALE_7_UNITS-APND  50.69935\n",
       "190420  2019-02-05 12:00:00+00:00    YALE_7_UNITS-APND  50.14012\n",
       "190421  2019-02-05 19:00:00+00:00    YALE_7_UNITS-APND  42.37442\n",
       "190422  2019-02-05 08:00:00+00:00    YALE_7_UNITS-APND  52.92776\n",
       "190423  2019-02-05 16:00:00+00:00    YALE_7_UNITS-APND  60.62821\n",
       "\n",
       "[190424 rows x 3 columns]"
      ]
     },
     "execution_count": 18,
     "metadata": {},
     "output_type": "execute_result"
    }
   ],
   "source": [
    "pd.read_sql_query(\"select * from lmp;\", conn)"
   ]
  },
  {
   "cell_type": "code",
   "execution_count": 33,
   "metadata": {},
   "outputs": [
    {
     "data": {
      "text/html": [
       "<div>\n",
       "<style scoped>\n",
       "    .dataframe tbody tr th:only-of-type {\n",
       "        vertical-align: middle;\n",
       "    }\n",
       "\n",
       "    .dataframe tbody tr th {\n",
       "        vertical-align: top;\n",
       "    }\n",
       "\n",
       "    .dataframe thead th {\n",
       "        text-align: right;\n",
       "    }\n",
       "</style>\n",
       "<table border=\"1\" class=\"dataframe\">\n",
       "  <thead>\n",
       "    <tr style=\"text-align: right;\">\n",
       "      <th></th>\n",
       "      <th>time</th>\n",
       "      <th>node</th>\n",
       "      <th>mw</th>\n",
       "    </tr>\n",
       "  </thead>\n",
       "  <tbody>\n",
       "    <tr>\n",
       "      <th>0</th>\n",
       "      <td>2019-02-05 04:00:00+00:00</td>\n",
       "      <td>AFPR_1_TOT_GEN-APND</td>\n",
       "      <td>56.62196</td>\n",
       "    </tr>\n",
       "    <tr>\n",
       "      <th>1</th>\n",
       "      <td>2019-02-05 03:00:00+00:00</td>\n",
       "      <td>AFPR_1_TOT_GEN-APND</td>\n",
       "      <td>59.95031</td>\n",
       "    </tr>\n",
       "    <tr>\n",
       "      <th>2</th>\n",
       "      <td>2019-02-05 06:00:00+00:00</td>\n",
       "      <td>AFPR_1_TOT_GEN-APND</td>\n",
       "      <td>40.71352</td>\n",
       "    </tr>\n",
       "    <tr>\n",
       "      <th>3</th>\n",
       "      <td>2019-02-05 07:00:00+00:00</td>\n",
       "      <td>AFPR_1_TOT_GEN-APND</td>\n",
       "      <td>38.52087</td>\n",
       "    </tr>\n",
       "    <tr>\n",
       "      <th>4</th>\n",
       "      <td>2019-02-05 01:00:00+00:00</td>\n",
       "      <td>AFPR_1_TOT_GEN-APND</td>\n",
       "      <td>57.86465</td>\n",
       "    </tr>\n",
       "    <tr>\n",
       "      <th>...</th>\n",
       "      <td>...</td>\n",
       "      <td>...</td>\n",
       "      <td>...</td>\n",
       "    </tr>\n",
       "    <tr>\n",
       "      <th>152347</th>\n",
       "      <td>2019-02-05 17:00:00+00:00</td>\n",
       "      <td>YALE_7_UNITS-APND</td>\n",
       "      <td>50.69935</td>\n",
       "    </tr>\n",
       "    <tr>\n",
       "      <th>152348</th>\n",
       "      <td>2019-02-05 12:00:00+00:00</td>\n",
       "      <td>YALE_7_UNITS-APND</td>\n",
       "      <td>50.14012</td>\n",
       "    </tr>\n",
       "    <tr>\n",
       "      <th>152349</th>\n",
       "      <td>2019-02-05 19:00:00+00:00</td>\n",
       "      <td>YALE_7_UNITS-APND</td>\n",
       "      <td>42.37442</td>\n",
       "    </tr>\n",
       "    <tr>\n",
       "      <th>152350</th>\n",
       "      <td>2019-02-05 08:00:00+00:00</td>\n",
       "      <td>YALE_7_UNITS-APND</td>\n",
       "      <td>52.92776</td>\n",
       "    </tr>\n",
       "    <tr>\n",
       "      <th>152351</th>\n",
       "      <td>2019-02-05 16:00:00+00:00</td>\n",
       "      <td>YALE_7_UNITS-APND</td>\n",
       "      <td>60.62821</td>\n",
       "    </tr>\n",
       "  </tbody>\n",
       "</table>\n",
       "<p>152352 rows × 3 columns</p>\n",
       "</div>"
      ],
      "text/plain": [
       "                             time                 node        mw\n",
       "0       2019-02-05 04:00:00+00:00  AFPR_1_TOT_GEN-APND  56.62196\n",
       "1       2019-02-05 03:00:00+00:00  AFPR_1_TOT_GEN-APND  59.95031\n",
       "2       2019-02-05 06:00:00+00:00  AFPR_1_TOT_GEN-APND  40.71352\n",
       "3       2019-02-05 07:00:00+00:00  AFPR_1_TOT_GEN-APND  38.52087\n",
       "4       2019-02-05 01:00:00+00:00  AFPR_1_TOT_GEN-APND  57.86465\n",
       "...                           ...                  ...       ...\n",
       "152347  2019-02-05 17:00:00+00:00    YALE_7_UNITS-APND  50.69935\n",
       "152348  2019-02-05 12:00:00+00:00    YALE_7_UNITS-APND  50.14012\n",
       "152349  2019-02-05 19:00:00+00:00    YALE_7_UNITS-APND  42.37442\n",
       "152350  2019-02-05 08:00:00+00:00    YALE_7_UNITS-APND  52.92776\n",
       "152351  2019-02-05 16:00:00+00:00    YALE_7_UNITS-APND  60.62821\n",
       "\n",
       "[152352 rows x 3 columns]"
      ]
     },
     "execution_count": 33,
     "metadata": {},
     "output_type": "execute_result"
    }
   ],
   "source": [
    "pd.read_sql_query(\n",
    "    \"\"\"select * from lmp\n",
    "    WHERE time > \"2019-02-05\";\n",
    "    \"\"\",\n",
    "    conn)"
   ]
  },
  {
   "cell_type": "code",
   "execution_count": 32,
   "metadata": {},
   "outputs": [
    {
     "data": {
      "text/html": [
       "<div>\n",
       "<style scoped>\n",
       "    .dataframe tbody tr th:only-of-type {\n",
       "        vertical-align: middle;\n",
       "    }\n",
       "\n",
       "    .dataframe tbody tr th {\n",
       "        vertical-align: top;\n",
       "    }\n",
       "\n",
       "    .dataframe thead th {\n",
       "        text-align: right;\n",
       "    }\n",
       "</style>\n",
       "<table border=\"1\" class=\"dataframe\">\n",
       "  <thead>\n",
       "    <tr style=\"text-align: right;\">\n",
       "      <th></th>\n",
       "      <th>COUNT(*)</th>\n",
       "    </tr>\n",
       "  </thead>\n",
       "  <tbody>\n",
       "    <tr>\n",
       "      <th>0</th>\n",
       "      <td>457024</td>\n",
       "    </tr>\n",
       "  </tbody>\n",
       "</table>\n",
       "</div>"
      ],
      "text/plain": [
       "   COUNT(*)\n",
       "0    457024"
      ]
     },
     "execution_count": 32,
     "metadata": {},
     "output_type": "execute_result"
    }
   ],
   "source": [
    "pd.read_sql_query(\n",
    "    \"\"\"select COUNT(*) from lmp;\n",
    "    \"\"\",\n",
    "    conn)"
   ]
  },
  {
   "cell_type": "code",
   "execution_count": null,
   "metadata": {},
   "outputs": [],
   "source": []
  }
 ],
 "metadata": {
  "kernelspec": {
   "display_name": "Python 3",
   "language": "python",
   "name": "python3"
  },
  "language_info": {
   "codemirror_mode": {
    "name": "ipython",
    "version": 3
   },
   "file_extension": ".py",
   "mimetype": "text/x-python",
   "name": "python",
   "nbconvert_exporter": "python",
   "pygments_lexer": "ipython3",
   "version": "3.7.3"
  }
 },
 "nbformat": 4,
 "nbformat_minor": 2
}
