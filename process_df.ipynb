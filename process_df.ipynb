{
 "cells": [
  {
   "cell_type": "code",
   "execution_count": 1,
   "metadata": {},
   "outputs": [],
   "source": [
    "import pandas as pd\n",
    "from src.input.caiso_connector import (\n",
    "    download_csv_file,\n",
    "    unzip_csv,\n",
    "    delete_data_files,\n",
    "    find_csv_files,\n",
    "    ZIP_DIRECTORY,\n",
    "    target_url\n",
    ")"
   ]
  },
  {
   "cell_type": "markdown",
   "metadata": {},
   "source": [
    "# Download file"
   ]
  },
  {
   "cell_type": "code",
   "execution_count": 2,
   "metadata": {},
   "outputs": [],
   "source": [
    "download_csv_file(target_url, ZIP_DIRECTORY)\n",
    "unzip_csv(ZIP_DIRECTORY)"
   ]
  },
  {
   "cell_type": "markdown",
   "metadata": {},
   "source": [
    "# Load dataframe "
   ]
  },
  {
   "cell_type": "code",
   "execution_count": 5,
   "metadata": {},
   "outputs": [
    {
     "data": {
      "text/html": [
       "<div>\n",
       "<style scoped>\n",
       "    .dataframe tbody tr th:only-of-type {\n",
       "        vertical-align: middle;\n",
       "    }\n",
       "\n",
       "    .dataframe tbody tr th {\n",
       "        vertical-align: top;\n",
       "    }\n",
       "\n",
       "    .dataframe thead th {\n",
       "        text-align: right;\n",
       "    }\n",
       "</style>\n",
       "<table border=\"1\" class=\"dataframe\">\n",
       "  <thead>\n",
       "    <tr style=\"text-align: right;\">\n",
       "      <th></th>\n",
       "      <th>time</th>\n",
       "      <th>node</th>\n",
       "      <th>mw</th>\n",
       "    </tr>\n",
       "  </thead>\n",
       "  <tbody>\n",
       "    <tr>\n",
       "      <th>0</th>\n",
       "      <td>2019-02-01 01:00:00+00:00</td>\n",
       "      <td>AFPR_1_TOT_GEN-APND</td>\n",
       "      <td>59.28223</td>\n",
       "    </tr>\n",
       "    <tr>\n",
       "      <th>1</th>\n",
       "      <td>2019-02-01 00:00:00+00:00</td>\n",
       "      <td>AFPR_1_TOT_GEN-APND</td>\n",
       "      <td>43.21976</td>\n",
       "    </tr>\n",
       "    <tr>\n",
       "      <th>2</th>\n",
       "      <td>2019-02-01 02:00:00+00:00</td>\n",
       "      <td>AFPR_1_TOT_GEN-APND</td>\n",
       "      <td>60.94596</td>\n",
       "    </tr>\n",
       "    <tr>\n",
       "      <th>3</th>\n",
       "      <td>2019-02-01 06:00:00+00:00</td>\n",
       "      <td>AFPR_1_TOT_GEN-APND</td>\n",
       "      <td>41.12965</td>\n",
       "    </tr>\n",
       "    <tr>\n",
       "      <th>4</th>\n",
       "      <td>2019-02-01 07:00:00+00:00</td>\n",
       "      <td>AFPR_1_TOT_GEN-APND</td>\n",
       "      <td>38.83438</td>\n",
       "    </tr>\n",
       "  </tbody>\n",
       "</table>\n",
       "</div>"
      ],
      "text/plain": [
       "                       time                 node        mw\n",
       "0 2019-02-01 01:00:00+00:00  AFPR_1_TOT_GEN-APND  59.28223\n",
       "1 2019-02-01 00:00:00+00:00  AFPR_1_TOT_GEN-APND  43.21976\n",
       "2 2019-02-01 02:00:00+00:00  AFPR_1_TOT_GEN-APND  60.94596\n",
       "3 2019-02-01 06:00:00+00:00  AFPR_1_TOT_GEN-APND  41.12965\n",
       "4 2019-02-01 07:00:00+00:00  AFPR_1_TOT_GEN-APND  38.83438"
      ]
     },
     "execution_count": 5,
     "metadata": {},
     "output_type": "execute_result"
    }
   ],
   "source": [
    "lmp_columns = ['INTERVALSTARTTIME_GMT', 'NODE','LMP_TYPE','MW']\n",
    "for file in find_csv_files(ZIP_DIRECTORY):\n",
    "    df = (pd.read_csv(file, usecols=lmp_columns)\n",
    "          .rename(columns = {'INTERVALSTARTTIME_GMT':'time','NODE':'node','MW':'mw'}))\n",
    "    df.time = pd.to_datetime(df.time)\n",
    "    df = df[df[\"LMP_TYPE\"]==\"LMP\"].drop(columns=['LMP_TYPE'])\n",
    "df.head()"
   ]
  },
  {
   "cell_type": "code",
   "execution_count": null,
   "metadata": {},
   "outputs": [],
   "source": [
    "print(len(df['NODE'].unique()))"
   ]
  },
  {
   "cell_type": "code",
   "execution_count": null,
   "metadata": {},
   "outputs": [],
   "source": [
    "for item in df['NODE'].unique():\n",
    "    print(item)"
   ]
  },
  {
   "cell_type": "code",
   "execution_count": null,
   "metadata": {},
   "outputs": [],
   "source": [
    "df[df['NODE']==\"AFPR_1_TOT_GEN-APND\"][['MW']]"
   ]
  },
  {
   "cell_type": "code",
   "execution_count": 8,
   "metadata": {},
   "outputs": [],
   "source": [
    "# Connect to database \n",
    "import sqlite3\n",
    "conn = sqlite3.connect(\"src/output/lmp.db\")\n"
   ]
  },
  {
   "cell_type": "code",
   "execution_count": 10,
   "metadata": {},
   "outputs": [],
   "source": [
    "df.to_sql(\"lmp\", conn, if_exists=\"replace\")"
   ]
  },
  {
   "cell_type": "code",
   "execution_count": 11,
   "metadata": {},
   "outputs": [
    {
     "data": {
      "text/html": [
       "<div>\n",
       "<style scoped>\n",
       "    .dataframe tbody tr th:only-of-type {\n",
       "        vertical-align: middle;\n",
       "    }\n",
       "\n",
       "    .dataframe tbody tr th {\n",
       "        vertical-align: top;\n",
       "    }\n",
       "\n",
       "    .dataframe thead th {\n",
       "        text-align: right;\n",
       "    }\n",
       "</style>\n",
       "<table border=\"1\" class=\"dataframe\">\n",
       "  <thead>\n",
       "    <tr style=\"text-align: right;\">\n",
       "      <th></th>\n",
       "      <th>index</th>\n",
       "      <th>time</th>\n",
       "      <th>node</th>\n",
       "      <th>mw</th>\n",
       "    </tr>\n",
       "  </thead>\n",
       "  <tbody>\n",
       "    <tr>\n",
       "      <th>0</th>\n",
       "      <td>0</td>\n",
       "      <td>2019-02-01 01:00:00+00:00</td>\n",
       "      <td>AFPR_1_TOT_GEN-APND</td>\n",
       "      <td>59.28223</td>\n",
       "    </tr>\n",
       "    <tr>\n",
       "      <th>1</th>\n",
       "      <td>1</td>\n",
       "      <td>2019-02-01 00:00:00+00:00</td>\n",
       "      <td>AFPR_1_TOT_GEN-APND</td>\n",
       "      <td>43.21976</td>\n",
       "    </tr>\n",
       "    <tr>\n",
       "      <th>2</th>\n",
       "      <td>2</td>\n",
       "      <td>2019-02-01 02:00:00+00:00</td>\n",
       "      <td>AFPR_1_TOT_GEN-APND</td>\n",
       "      <td>60.94596</td>\n",
       "    </tr>\n",
       "    <tr>\n",
       "      <th>3</th>\n",
       "      <td>3</td>\n",
       "      <td>2019-02-01 06:00:00+00:00</td>\n",
       "      <td>AFPR_1_TOT_GEN-APND</td>\n",
       "      <td>41.12965</td>\n",
       "    </tr>\n",
       "    <tr>\n",
       "      <th>4</th>\n",
       "      <td>4</td>\n",
       "      <td>2019-02-01 07:00:00+00:00</td>\n",
       "      <td>AFPR_1_TOT_GEN-APND</td>\n",
       "      <td>38.83438</td>\n",
       "    </tr>\n",
       "    <tr>\n",
       "      <th>...</th>\n",
       "      <td>...</td>\n",
       "      <td>...</td>\n",
       "      <td>...</td>\n",
       "      <td>...</td>\n",
       "    </tr>\n",
       "    <tr>\n",
       "      <th>190419</th>\n",
       "      <td>761643</td>\n",
       "      <td>2019-02-05 17:00:00+00:00</td>\n",
       "      <td>YALE_7_UNITS-APND</td>\n",
       "      <td>50.69935</td>\n",
       "    </tr>\n",
       "    <tr>\n",
       "      <th>190420</th>\n",
       "      <td>761644</td>\n",
       "      <td>2019-02-05 12:00:00+00:00</td>\n",
       "      <td>YALE_7_UNITS-APND</td>\n",
       "      <td>50.14012</td>\n",
       "    </tr>\n",
       "    <tr>\n",
       "      <th>190421</th>\n",
       "      <td>761645</td>\n",
       "      <td>2019-02-05 19:00:00+00:00</td>\n",
       "      <td>YALE_7_UNITS-APND</td>\n",
       "      <td>42.37442</td>\n",
       "    </tr>\n",
       "    <tr>\n",
       "      <th>190422</th>\n",
       "      <td>761646</td>\n",
       "      <td>2019-02-05 08:00:00+00:00</td>\n",
       "      <td>YALE_7_UNITS-APND</td>\n",
       "      <td>52.92776</td>\n",
       "    </tr>\n",
       "    <tr>\n",
       "      <th>190423</th>\n",
       "      <td>761647</td>\n",
       "      <td>2019-02-05 16:00:00+00:00</td>\n",
       "      <td>YALE_7_UNITS-APND</td>\n",
       "      <td>60.62821</td>\n",
       "    </tr>\n",
       "  </tbody>\n",
       "</table>\n",
       "<p>190424 rows × 4 columns</p>\n",
       "</div>"
      ],
      "text/plain": [
       "         index                       time                 node        mw\n",
       "0            0  2019-02-01 01:00:00+00:00  AFPR_1_TOT_GEN-APND  59.28223\n",
       "1            1  2019-02-01 00:00:00+00:00  AFPR_1_TOT_GEN-APND  43.21976\n",
       "2            2  2019-02-01 02:00:00+00:00  AFPR_1_TOT_GEN-APND  60.94596\n",
       "3            3  2019-02-01 06:00:00+00:00  AFPR_1_TOT_GEN-APND  41.12965\n",
       "4            4  2019-02-01 07:00:00+00:00  AFPR_1_TOT_GEN-APND  38.83438\n",
       "...        ...                        ...                  ...       ...\n",
       "190419  761643  2019-02-05 17:00:00+00:00    YALE_7_UNITS-APND  50.69935\n",
       "190420  761644  2019-02-05 12:00:00+00:00    YALE_7_UNITS-APND  50.14012\n",
       "190421  761645  2019-02-05 19:00:00+00:00    YALE_7_UNITS-APND  42.37442\n",
       "190422  761646  2019-02-05 08:00:00+00:00    YALE_7_UNITS-APND  52.92776\n",
       "190423  761647  2019-02-05 16:00:00+00:00    YALE_7_UNITS-APND  60.62821\n",
       "\n",
       "[190424 rows x 4 columns]"
      ]
     },
     "execution_count": 11,
     "metadata": {},
     "output_type": "execute_result"
    }
   ],
   "source": [
    "pd.read_sql_query(\"select * from lmp;\", conn)"
   ]
  },
  {
   "cell_type": "code",
   "execution_count": null,
   "metadata": {},
   "outputs": [],
   "source": []
  }
 ],
 "metadata": {
  "kernelspec": {
   "display_name": "Python 3",
   "language": "python",
   "name": "python3"
  },
  "language_info": {
   "codemirror_mode": {
    "name": "ipython",
    "version": 3
   },
   "file_extension": ".py",
   "mimetype": "text/x-python",
   "name": "python",
   "nbconvert_exporter": "python",
   "pygments_lexer": "ipython3",
   "version": "3.7.3"
  }
 },
 "nbformat": 4,
 "nbformat_minor": 2
}
